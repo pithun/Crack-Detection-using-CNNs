{
 "cells": [
  {
   "cell_type": "code",
   "execution_count": 8,
   "id": "cd532cc0",
   "metadata": {},
   "outputs": [],
   "source": [
    "from sklearn.metrics import jaccard_score, accuracy_score"
   ]
  },
  {
   "cell_type": "markdown",
   "id": "86fcc184",
   "metadata": {},
   "source": [
    "## JACCARD_SCORE in Python working mechanism"
   ]
  },
  {
   "cell_type": "markdown",
   "id": "e3c9962f",
   "metadata": {},
   "source": [
    "I was having doubts regarding the correctness of flattening an image after prediction and comparing with the flattened ground truth. So, I prepared this. The Jaccard seems to consider just the 1s (this is because by default in the jaccard function, the positive label is said to be 1) basically in the ground truth, there are three ones and 2 intersect. Therefore, intersection area or count is 2. In the predicted, there are 4 1s but there's a 0 in one place which should be 1. \n",
    "\n",
    "Trying to represent graphically, in the first list, there's 3 1s in the second there's 4 1s\n",
    "\n",
    " [|1|1|1|]\n",
    "[1|1|0|1|1]\n",
    "\n",
    "The effective formula is IOU = TP/TP+FP+FN\n",
    "\n",
    "In the example below, TP = 2, FP(predicted positive but is -ve) = 2, FN(predicted -ve but is +ve) = 1\n",
    "\n",
    "Hence, we have 2/(2+2+2) = 0.4\n",
    "\n",
    "\n",
    "For accuracy on the other hand, we consider all inersecting values and not just the 1s i.e the first 0, the two 1s in the middle, and the last 0 intersect divided by length of the list = 7\n",
    "\n",
    "4/7 = 0.5714285714285714\n"
   ]
  },
  {
   "cell_type": "code",
   "execution_count": 12,
   "id": "f47cb6c1",
   "metadata": {},
   "outputs": [
    {
     "data": {
      "text/plain": [
       "0.4"
      ]
     },
     "execution_count": 12,
     "metadata": {},
     "output_type": "execute_result"
    }
   ],
   "source": [
    "jaccard_score([0,0,1,1,1,0,0], [0,1,1,0,1,1,0])\n"
   ]
  },
  {
   "cell_type": "code",
   "execution_count": 5,
   "id": "59bb9234",
   "metadata": {},
   "outputs": [
    {
     "data": {
      "text/plain": [
       "0.5714285714285714"
      ]
     },
     "execution_count": 5,
     "metadata": {},
     "output_type": "execute_result"
    }
   ],
   "source": [
    "accuracy_score([0,0,1,1,1,0,0], [0,1,1,0,1,1,0])"
   ]
  },
  {
   "cell_type": "code",
   "execution_count": null,
   "id": "3e3b796b",
   "metadata": {},
   "outputs": [],
   "source": []
  }
 ],
 "metadata": {
  "kernelspec": {
   "display_name": "Python 3 (ipykernel)",
   "language": "python",
   "name": "python3"
  },
  "language_info": {
   "codemirror_mode": {
    "name": "ipython",
    "version": 3
   },
   "file_extension": ".py",
   "mimetype": "text/x-python",
   "name": "python",
   "nbconvert_exporter": "python",
   "pygments_lexer": "ipython3",
   "version": "3.11.3"
  }
 },
 "nbformat": 4,
 "nbformat_minor": 5
}
