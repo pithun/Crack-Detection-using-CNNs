{
 "cells": [
  {
   "cell_type": "code",
   "execution_count": 1,
   "id": "1cc3ff21",
   "metadata": {},
   "outputs": [],
   "source": [
    "import shutil\n",
    "import os"
   ]
  },
  {
   "cell_type": "code",
   "execution_count": 4,
   "id": "5cdf81a2",
   "metadata": {},
   "outputs": [
    {
     "name": "stdout",
     "output_type": "stream",
     "text": [
      "Masks copied successfully.\n"
     ]
    }
   ],
   "source": [
    "# Define the source and destination folders\n",
    "subset_img_folder = 'To_Use_from_NewDataSet'\n",
    "source_mask_folder = 'crack_segmentation_dataset/masks'  # Replace with the path to your source mask folder\n",
    "destination_mask_folder = 'To_Use_from_NewDataSet_masks'  # Replace with the path to your destination mask folder\n",
    "\n",
    "# List of image filenames from the subset you selected\n",
    "selected_images = os.listdir(subset_img_folder)\n",
    "\n",
    "# Iterate through the selected images and copy their corresponding masks\n",
    "for image_filename in selected_images:\n",
    "    #mask_filename = image_filename.replace('.jpg', '_mask.jpg')  # Adjust the mask file extension as needed\n",
    "    source_mask_path = os.path.join(source_mask_folder, image_filename)\n",
    "    destination_mask_path = os.path.join(destination_mask_folder, image_filename)\n",
    "\n",
    "    # Copy the mask file to the destination folder\n",
    "    shutil.copy(source_mask_path, destination_mask_path)\n",
    "\n",
    "print(\"Masks copied successfully.\")\n"
   ]
  },
  {
   "cell_type": "code",
   "execution_count": null,
   "id": "cfd4858e",
   "metadata": {},
   "outputs": [],
   "source": []
  }
 ],
 "metadata": {
  "kernelspec": {
   "display_name": "Python 3 (ipykernel)",
   "language": "python",
   "name": "python3"
  },
  "language_info": {
   "codemirror_mode": {
    "name": "ipython",
    "version": 3
   },
   "file_extension": ".py",
   "mimetype": "text/x-python",
   "name": "python",
   "nbconvert_exporter": "python",
   "pygments_lexer": "ipython3",
   "version": "3.11.3"
  }
 },
 "nbformat": 4,
 "nbformat_minor": 5
}
