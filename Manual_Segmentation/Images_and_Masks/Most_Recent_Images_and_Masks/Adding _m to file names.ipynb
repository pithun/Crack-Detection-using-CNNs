{
 "cells": [
  {
   "cell_type": "code",
   "execution_count": 2,
   "id": "4304305e",
   "metadata": {},
   "outputs": [],
   "source": [
    "import cv2\n",
    "import os\n",
    "import pandas as pd"
   ]
  },
  {
   "cell_type": "markdown",
   "id": "f1b7895e",
   "metadata": {},
   "source": [
    "## Renaming Masks\n",
    "I used this to add _m to image names"
   ]
  },
  {
   "cell_type": "code",
   "execution_count": 23,
   "id": "07293b51",
   "metadata": {},
   "outputs": [],
   "source": [
    "## I used this to add _m to image names\n",
    "# Getting names of original images\n",
    "original_imgs = os.listdir('Mask_Images/')\n",
    "rename = [a[:3]+a[4:-4]+'_m' for a in original_imgs]\n",
    "\n",
    "# Getting names of mask files\n",
    "mask_images = sorted(os.listdir('Mask_Images/'))"
   ]
  },
  {
   "cell_type": "code",
   "execution_count": 3,
   "id": "f62076ca",
   "metadata": {},
   "outputs": [],
   "source": [
    "def rename_imgs(file_names, desired_name, input_folder = '', output_folder = 'renamed'):\n",
    "    for img, img_name in zip(file_names, desired_name):\n",
    "        img = cv2.imread(input_folder+'/'+img)\n",
    "        img_output_path = output_folder+'/'+img_name+'.jpg'\n",
    "        responce = cv2.imwrite(img_output_path, img)\n",
    "\n",
    "        if responce:\n",
    "            print(\"image stored at location: \",img_output_path)"
   ]
  },
  {
   "cell_type": "code",
   "execution_count": 24,
   "id": "f13f77e3",
   "metadata": {
    "scrolled": true
   },
   "outputs": [
    {
     "name": "stdout",
     "output_type": "stream",
     "text": [
      "image stored at location:  renamed/Img1_m.jpg\n",
      "image stored at location:  renamed/Img10_m.jpg\n",
      "image stored at location:  renamed/Img11_m.jpg\n",
      "image stored at location:  renamed/Img12_m.jpg\n",
      "image stored at location:  renamed/Img13_m.jpg\n",
      "image stored at location:  renamed/Img14_m.jpg\n",
      "image stored at location:  renamed/Img15_m.jpg\n",
      "image stored at location:  renamed/Img16_m.jpg\n",
      "image stored at location:  renamed/Img17_m.jpg\n",
      "image stored at location:  renamed/Img18_m.jpg\n",
      "image stored at location:  renamed/Img19_m.jpg\n",
      "image stored at location:  renamed/Img2_m.jpg\n",
      "image stored at location:  renamed/Img20_m.jpg\n",
      "image stored at location:  renamed/Img21_m.jpg\n",
      "image stored at location:  renamed/Img22_m.jpg\n",
      "image stored at location:  renamed/Img23_m.jpg\n",
      "image stored at location:  renamed/Img24_m.jpg\n",
      "image stored at location:  renamed/Img25_m.jpg\n",
      "image stored at location:  renamed/Img26_m.jpg\n",
      "image stored at location:  renamed/Img27_m.jpg\n",
      "image stored at location:  renamed/Img28_m.jpg\n",
      "image stored at location:  renamed/Img29_m.jpg\n",
      "image stored at location:  renamed/Img3_m.jpg\n",
      "image stored at location:  renamed/Img30_m.jpg\n",
      "image stored at location:  renamed/Img33_m.jpg\n",
      "image stored at location:  renamed/Img34_m.jpg\n",
      "image stored at location:  renamed/Img4_m.jpg\n",
      "image stored at location:  renamed/Img5_m.jpg\n",
      "image stored at location:  renamed/Img6_m.jpg\n",
      "image stored at location:  renamed/Img7_m.jpg\n",
      "image stored at location:  renamed/Img8_m.jpg\n",
      "image stored at location:  renamed/Img9_m.jpg\n"
     ]
    }
   ],
   "source": [
    "rename_imgs(original_imgs, rename, input_folder = 'Mask_Images', output_folder = 'renamed')"
   ]
  },
  {
   "cell_type": "code",
   "execution_count": null,
   "id": "03d20486",
   "metadata": {},
   "outputs": [],
   "source": []
  }
 ],
 "metadata": {
  "kernelspec": {
   "display_name": "Python 3 (ipykernel)",
   "language": "python",
   "name": "python3"
  },
  "language_info": {
   "codemirror_mode": {
    "name": "ipython",
    "version": 3
   },
   "file_extension": ".py",
   "mimetype": "text/x-python",
   "name": "python",
   "nbconvert_exporter": "python",
   "pygments_lexer": "ipython3",
   "version": "3.11.3"
  }
 },
 "nbformat": 4,
 "nbformat_minor": 5
}
