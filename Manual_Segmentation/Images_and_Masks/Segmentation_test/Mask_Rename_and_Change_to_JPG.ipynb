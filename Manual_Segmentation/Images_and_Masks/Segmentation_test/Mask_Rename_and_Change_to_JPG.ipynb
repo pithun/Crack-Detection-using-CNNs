{
 "cells": [
  {
   "cell_type": "code",
   "execution_count": 1,
   "id": "4304305e",
   "metadata": {},
   "outputs": [],
   "source": [
    "import cv2\n",
    "import os\n",
    "import pandas as pd"
   ]
  },
  {
   "cell_type": "code",
   "execution_count": 4,
   "id": "106b8f47",
   "metadata": {},
   "outputs": [],
   "source": [
    "images = os.listdir()\n",
    "images.remove('.ipynb_checkpoints')\n",
    "images.remove('Untitled.ipynb')"
   ]
  },
  {
   "cell_type": "code",
   "execution_count": 6,
   "id": "4717acef",
   "metadata": {},
   "outputs": [],
   "source": [
    "just_imgs_names = [a.split('.')[0] for a in images]"
   ]
  },
  {
   "cell_type": "code",
   "execution_count": 2,
   "id": "f62076ca",
   "metadata": {},
   "outputs": [],
   "source": [
    "def rename_imgs(file_names, desired_name, input_folder = '', output_folder = 'renamed'):\n",
    "    for img, img_name in zip(file_names, desired_name):\n",
    "        img = cv2.imread(input_folder+'/'+img)\n",
    "        img_output_path = output_folder+'/'+img_name+'.jpg'\n",
    "        responce = cv2.imwrite(img_output_path, img)\n",
    "\n",
    "        if responce:\n",
    "            print(\"image stored at location: \",img_output_path)"
   ]
  },
  {
   "cell_type": "markdown",
   "id": "f1b7895e",
   "metadata": {},
   "source": [
    "## Renaming Masks\n",
    "My test images are arranged in alphabetical order e.g img_2, img_3, etc also the downloaded masks have tasks number in their name in ascending order.\n",
    "\n",
    "Img_2 -> task-283"
   ]
  },
  {
   "cell_type": "code",
   "execution_count": 8,
   "id": "07293b51",
   "metadata": {},
   "outputs": [],
   "source": [
    "# Getting names of original images\n",
    "# I modified this on 4/11 to rename the images in the train masks.\n",
    "original_imgs = [a.replace('.jpg', '') for a in os.listdir('Seg_train_Images/')]\n",
    "\n",
    "# Getting names of mask files\n",
    "mask_images = sorted(os.listdir('Seg_train_Masks/'))"
   ]
  },
  {
   "cell_type": "code",
   "execution_count": 27,
   "id": "1e9a95e3",
   "metadata": {},
   "outputs": [],
   "source": [
    "# Define a custom sorting function to extract the numeric values from the filenames\n",
    "def get_numeric_value(filename):\n",
    "    # Extract the numeric part by splitting the filename\n",
    "    numeric_part = filename.split('_')[-1].split('.')[0]\n",
    "    # Convert the numeric part to an integer (remove leading zeros if any)\n",
    "    return int(numeric_part)\n",
    "\n",
    "# Sort original Image names such that img_2 is first and img_3 is next using sorted normally, img_10 is first then img_11\n",
    "original_imgs = sorted(original_imgs, key=get_numeric_value)\n",
    "\n",
    "# Getting just the image name i.e removing _\n",
    "original_imgs_names = [name.split('.')[0] for name in original_imgs]"
   ]
  },
  {
   "cell_type": "code",
   "execution_count": 10,
   "id": "4c276489",
   "metadata": {},
   "outputs": [
    {
     "name": "stdout",
     "output_type": "stream",
     "text": [
      "image stored at location:  renamed/1000.jpg\n",
      "image stored at location:  renamed/1001.jpg\n",
      "image stored at location:  renamed/1002.jpg\n",
      "image stored at location:  renamed/1003.jpg\n",
      "image stored at location:  renamed/1004.jpg\n",
      "image stored at location:  renamed/1005.jpg\n",
      "image stored at location:  renamed/1006.jpg\n",
      "image stored at location:  renamed/1007.jpg\n",
      "image stored at location:  renamed/1008.jpg\n",
      "image stored at location:  renamed/1009.jpg\n",
      "image stored at location:  renamed/1010.jpg\n",
      "image stored at location:  renamed/1011.jpg\n",
      "image stored at location:  renamed/1012.jpg\n",
      "image stored at location:  renamed/1013.jpg\n",
      "image stored at location:  renamed/1014.jpg\n",
      "image stored at location:  renamed/1015.jpg\n",
      "image stored at location:  renamed/1016.jpg\n",
      "image stored at location:  renamed/1017.jpg\n",
      "image stored at location:  renamed/1018.jpg\n",
      "image stored at location:  renamed/1019.jpg\n",
      "image stored at location:  renamed/1020.jpg\n",
      "image stored at location:  renamed/1021.jpg\n",
      "image stored at location:  renamed/1022.jpg\n",
      "image stored at location:  renamed/1023.jpg\n",
      "image stored at location:  renamed/1024.jpg\n",
      "image stored at location:  renamed/1025.jpg\n",
      "image stored at location:  renamed/1026.jpg\n",
      "image stored at location:  renamed/1027.jpg\n",
      "image stored at location:  renamed/1028.jpg\n",
      "image stored at location:  renamed/1029.jpg\n",
      "image stored at location:  renamed/1030.jpg\n",
      "image stored at location:  renamed/1031.jpg\n",
      "image stored at location:  renamed/1032.jpg\n",
      "image stored at location:  renamed/1033.jpg\n",
      "image stored at location:  renamed/1034.jpg\n",
      "image stored at location:  renamed/1035.jpg\n",
      "image stored at location:  renamed/1036.jpg\n",
      "image stored at location:  renamed/1037.jpg\n",
      "image stored at location:  renamed/1038.jpg\n",
      "image stored at location:  renamed/1039.jpg\n"
     ]
    }
   ],
   "source": [
    "rename_imgs(mask_images, original_imgs, 'Seg_train_Masks', 'renamed')"
   ]
  },
  {
   "cell_type": "markdown",
   "id": "9aaf785a",
   "metadata": {},
   "source": [
    "## Automated renaming for the other images from the initial Dataset"
   ]
  },
  {
   "cell_type": "code",
   "execution_count": 5,
   "id": "46e9b1c9",
   "metadata": {},
   "outputs": [],
   "source": [
    "img_names = os.listdir('Segmentation_Manual_test_images/')"
   ]
  },
  {
   "cell_type": "code",
   "execution_count": 7,
   "id": "144b2168",
   "metadata": {},
   "outputs": [],
   "source": [
    "# Creating dataframe containing numbers image names split\n",
    "f_num = []\n",
    "s_num = []\n",
    "full_img  = []\n",
    "\n",
    "for name in img_names:\n",
    "    f_part = name.split('-')[0]\n",
    "    s_part = name.split('-')[1].replace('.jpg', '')\n",
    "    full_part = name\n",
    "    \n",
    "    f_num.append(f_part)\n",
    "    s_num.append(s_part)\n",
    "    full_img.append(full_part)\n",
    "    "
   ]
  },
  {
   "cell_type": "code",
   "execution_count": 26,
   "id": "1d514952",
   "metadata": {},
   "outputs": [],
   "source": [
    "df = pd.DataFrame({'first_num':f_num, 'second_num':s_num, 'image':full_img})"
   ]
  },
  {
   "cell_type": "code",
   "execution_count": 27,
   "id": "32a91002",
   "metadata": {},
   "outputs": [],
   "source": [
    "df['first_num']=df.first_num.astype('int64')\n",
    "df['second_num']=df.second_num.astype('int64')"
   ]
  },
  {
   "cell_type": "code",
   "execution_count": 28,
   "id": "d03cd6ce",
   "metadata": {},
   "outputs": [],
   "source": [
    "df.sort_values(['first_num', 'second_num'], ascending= True, inplace=True)"
   ]
  },
  {
   "cell_type": "code",
   "execution_count": 30,
   "id": "df1eb6b6",
   "metadata": {},
   "outputs": [],
   "source": [
    "df['label-studio_index'] = list(range(103,283))"
   ]
  },
  {
   "cell_type": "code",
   "execution_count": 31,
   "id": "86b4fe59",
   "metadata": {},
   "outputs": [
    {
     "data": {
      "text/html": [
       "<div>\n",
       "<style scoped>\n",
       "    .dataframe tbody tr th:only-of-type {\n",
       "        vertical-align: middle;\n",
       "    }\n",
       "\n",
       "    .dataframe tbody tr th {\n",
       "        vertical-align: top;\n",
       "    }\n",
       "\n",
       "    .dataframe thead th {\n",
       "        text-align: right;\n",
       "    }\n",
       "</style>\n",
       "<table border=\"1\" class=\"dataframe\">\n",
       "  <thead>\n",
       "    <tr style=\"text-align: right;\">\n",
       "      <th></th>\n",
       "      <th>first_num</th>\n",
       "      <th>second_num</th>\n",
       "      <th>image</th>\n",
       "      <th>label-studio_index</th>\n",
       "    </tr>\n",
       "  </thead>\n",
       "  <tbody>\n",
       "    <tr>\n",
       "      <th>1</th>\n",
       "      <td>87</td>\n",
       "      <td>80</td>\n",
       "      <td>087-80.jpg</td>\n",
       "      <td>103</td>\n",
       "    </tr>\n",
       "    <tr>\n",
       "      <th>2</th>\n",
       "      <td>87</td>\n",
       "      <td>98</td>\n",
       "      <td>087-98.jpg</td>\n",
       "      <td>104</td>\n",
       "    </tr>\n",
       "    <tr>\n",
       "      <th>0</th>\n",
       "      <td>87</td>\n",
       "      <td>153</td>\n",
       "      <td>087-153.jpg</td>\n",
       "      <td>105</td>\n",
       "    </tr>\n",
       "    <tr>\n",
       "      <th>3</th>\n",
       "      <td>88</td>\n",
       "      <td>176</td>\n",
       "      <td>088-176.jpg</td>\n",
       "      <td>106</td>\n",
       "    </tr>\n",
       "    <tr>\n",
       "      <th>4</th>\n",
       "      <td>88</td>\n",
       "      <td>177</td>\n",
       "      <td>088-177.jpg</td>\n",
       "      <td>107</td>\n",
       "    </tr>\n",
       "    <tr>\n",
       "      <th>...</th>\n",
       "      <td>...</td>\n",
       "      <td>...</td>\n",
       "      <td>...</td>\n",
       "      <td>...</td>\n",
       "    </tr>\n",
       "    <tr>\n",
       "      <th>177</th>\n",
       "      <td>7111</td>\n",
       "      <td>58</td>\n",
       "      <td>7111-58.jpg</td>\n",
       "      <td>278</td>\n",
       "    </tr>\n",
       "    <tr>\n",
       "      <th>178</th>\n",
       "      <td>7111</td>\n",
       "      <td>77</td>\n",
       "      <td>7111-77.jpg</td>\n",
       "      <td>279</td>\n",
       "    </tr>\n",
       "    <tr>\n",
       "      <th>179</th>\n",
       "      <td>7111</td>\n",
       "      <td>96</td>\n",
       "      <td>7111-96.jpg</td>\n",
       "      <td>280</td>\n",
       "    </tr>\n",
       "    <tr>\n",
       "      <th>175</th>\n",
       "      <td>7111</td>\n",
       "      <td>114</td>\n",
       "      <td>7111-114.jpg</td>\n",
       "      <td>281</td>\n",
       "    </tr>\n",
       "    <tr>\n",
       "      <th>176</th>\n",
       "      <td>7111</td>\n",
       "      <td>115</td>\n",
       "      <td>7111-115.jpg</td>\n",
       "      <td>282</td>\n",
       "    </tr>\n",
       "  </tbody>\n",
       "</table>\n",
       "<p>180 rows × 4 columns</p>\n",
       "</div>"
      ],
      "text/plain": [
       "     first_num  second_num         image  label-studio_index\n",
       "1           87          80    087-80.jpg                 103\n",
       "2           87          98    087-98.jpg                 104\n",
       "0           87         153   087-153.jpg                 105\n",
       "3           88         176   088-176.jpg                 106\n",
       "4           88         177   088-177.jpg                 107\n",
       "..         ...         ...           ...                 ...\n",
       "177       7111          58   7111-58.jpg                 278\n",
       "178       7111          77   7111-77.jpg                 279\n",
       "179       7111          96   7111-96.jpg                 280\n",
       "175       7111         114  7111-114.jpg                 281\n",
       "176       7111         115  7111-115.jpg                 282\n",
       "\n",
       "[180 rows x 4 columns]"
      ]
     },
     "execution_count": 31,
     "metadata": {},
     "output_type": "execute_result"
    }
   ],
   "source": [
    "df"
   ]
  },
  {
   "cell_type": "code",
   "execution_count": 42,
   "id": "89e774a7",
   "metadata": {},
   "outputs": [],
   "source": [
    "# Next I need to slice out all the label studio index that's here\n",
    "# Getting names of all available masks\n",
    "mask_images = sorted(os.listdir('Segmentation_Manual_test_masks/'))\n",
    "\n",
    "# Getting available label studio index\n",
    "available_index = [int(lab.split('-')[1]) for lab in mask_images]\n",
    "\n",
    "# Slicing dataframe to keep only rows with \n",
    "available_df = df[df['label-studio_index'].isin(available_index)]"
   ]
  },
  {
   "cell_type": "code",
   "execution_count": 48,
   "id": "c509c00d",
   "metadata": {},
   "outputs": [
    {
     "name": "stdout",
     "output_type": "stream",
     "text": [
      "image stored at location:  renamed/Img_103.jpg\n",
      "image stored at location:  renamed/Img_104.jpg\n",
      "image stored at location:  renamed/Img_105.jpg\n",
      "image stored at location:  renamed/Img_106.jpg\n",
      "image stored at location:  renamed/Img_107.jpg\n",
      "image stored at location:  renamed/Img_108.jpg\n",
      "image stored at location:  renamed/Img_109.jpg\n",
      "image stored at location:  renamed/Img_110.jpg\n",
      "image stored at location:  renamed/Img_111.jpg\n",
      "image stored at location:  renamed/Img_112.jpg\n",
      "image stored at location:  renamed/Img_113.jpg\n",
      "image stored at location:  renamed/Img_114.jpg\n",
      "image stored at location:  renamed/Img_115.jpg\n",
      "image stored at location:  renamed/Img_116.jpg\n",
      "image stored at location:  renamed/Img_117.jpg\n",
      "image stored at location:  renamed/Img_118.jpg\n",
      "image stored at location:  renamed/Img_120.jpg\n",
      "image stored at location:  renamed/Img_121.jpg\n",
      "image stored at location:  renamed/Img_122.jpg\n",
      "image stored at location:  renamed/Img_123.jpg\n",
      "image stored at location:  renamed/Img_124.jpg\n",
      "image stored at location:  renamed/Img_125.jpg\n",
      "image stored at location:  renamed/Img_126.jpg\n",
      "image stored at location:  renamed/Img_127.jpg\n",
      "image stored at location:  renamed/Img_128.jpg\n",
      "image stored at location:  renamed/Img_129.jpg\n",
      "image stored at location:  renamed/Img_130.jpg\n",
      "image stored at location:  renamed/Img_131.jpg\n",
      "image stored at location:  renamed/Img_132.jpg\n",
      "image stored at location:  renamed/Img_133.jpg\n",
      "image stored at location:  renamed/Img_134.jpg\n",
      "image stored at location:  renamed/Img_135.jpg\n",
      "image stored at location:  renamed/Img_136.jpg\n",
      "image stored at location:  renamed/Img_137.jpg\n",
      "image stored at location:  renamed/Img_138.jpg\n",
      "image stored at location:  renamed/Img_139.jpg\n",
      "image stored at location:  renamed/Img_140.jpg\n",
      "image stored at location:  renamed/Img_141.jpg\n",
      "image stored at location:  renamed/Img_142.jpg\n",
      "image stored at location:  renamed/Img_143.jpg\n",
      "image stored at location:  renamed/Img_144.jpg\n",
      "image stored at location:  renamed/Img_145.jpg\n",
      "image stored at location:  renamed/Img_146.jpg\n",
      "image stored at location:  renamed/Img_147.jpg\n",
      "image stored at location:  renamed/Img_149.jpg\n",
      "image stored at location:  renamed/Img_150.jpg\n",
      "image stored at location:  renamed/Img_151.jpg\n",
      "image stored at location:  renamed/Img_152.jpg\n",
      "image stored at location:  renamed/Img_153.jpg\n",
      "image stored at location:  renamed/Img_154.jpg\n",
      "image stored at location:  renamed/Img_155.jpg\n",
      "image stored at location:  renamed/Img_156.jpg\n",
      "image stored at location:  renamed/Img_157.jpg\n",
      "image stored at location:  renamed/Img_158.jpg\n",
      "image stored at location:  renamed/Img_159.jpg\n",
      "image stored at location:  renamed/Img_160.jpg\n",
      "image stored at location:  renamed/Img_161.jpg\n",
      "image stored at location:  renamed/Img_162.jpg\n",
      "image stored at location:  renamed/Img_165.jpg\n",
      "image stored at location:  renamed/Img_168.jpg\n"
     ]
    }
   ],
   "source": [
    "# Renaming original Images\n",
    "rename_imgs(available_df['image'], ['Img_'+str(ind) for ind in available_df['label-studio_index']], \n",
    "            input_folder = 'Segmentation_Manual_test_images/', output_folder = 'renamed')"
   ]
  },
  {
   "cell_type": "code",
   "execution_count": 49,
   "id": "c23b898a",
   "metadata": {},
   "outputs": [
    {
     "name": "stdout",
     "output_type": "stream",
     "text": [
      "image stored at location:  renamed/Img_103.jpg\n",
      "image stored at location:  renamed/Img_104.jpg\n",
      "image stored at location:  renamed/Img_105.jpg\n",
      "image stored at location:  renamed/Img_106.jpg\n",
      "image stored at location:  renamed/Img_107.jpg\n",
      "image stored at location:  renamed/Img_108.jpg\n",
      "image stored at location:  renamed/Img_109.jpg\n",
      "image stored at location:  renamed/Img_110.jpg\n",
      "image stored at location:  renamed/Img_111.jpg\n",
      "image stored at location:  renamed/Img_112.jpg\n",
      "image stored at location:  renamed/Img_113.jpg\n",
      "image stored at location:  renamed/Img_114.jpg\n",
      "image stored at location:  renamed/Img_115.jpg\n",
      "image stored at location:  renamed/Img_116.jpg\n",
      "image stored at location:  renamed/Img_117.jpg\n",
      "image stored at location:  renamed/Img_118.jpg\n",
      "image stored at location:  renamed/Img_120.jpg\n",
      "image stored at location:  renamed/Img_121.jpg\n",
      "image stored at location:  renamed/Img_122.jpg\n",
      "image stored at location:  renamed/Img_123.jpg\n",
      "image stored at location:  renamed/Img_124.jpg\n",
      "image stored at location:  renamed/Img_125.jpg\n",
      "image stored at location:  renamed/Img_126.jpg\n",
      "image stored at location:  renamed/Img_127.jpg\n",
      "image stored at location:  renamed/Img_128.jpg\n",
      "image stored at location:  renamed/Img_129.jpg\n",
      "image stored at location:  renamed/Img_130.jpg\n",
      "image stored at location:  renamed/Img_131.jpg\n",
      "image stored at location:  renamed/Img_132.jpg\n",
      "image stored at location:  renamed/Img_133.jpg\n",
      "image stored at location:  renamed/Img_134.jpg\n",
      "image stored at location:  renamed/Img_135.jpg\n",
      "image stored at location:  renamed/Img_136.jpg\n",
      "image stored at location:  renamed/Img_137.jpg\n",
      "image stored at location:  renamed/Img_138.jpg\n",
      "image stored at location:  renamed/Img_139.jpg\n",
      "image stored at location:  renamed/Img_140.jpg\n",
      "image stored at location:  renamed/Img_141.jpg\n",
      "image stored at location:  renamed/Img_142.jpg\n",
      "image stored at location:  renamed/Img_143.jpg\n",
      "image stored at location:  renamed/Img_144.jpg\n",
      "image stored at location:  renamed/Img_145.jpg\n",
      "image stored at location:  renamed/Img_146.jpg\n",
      "image stored at location:  renamed/Img_147.jpg\n",
      "image stored at location:  renamed/Img_149.jpg\n",
      "image stored at location:  renamed/Img_150.jpg\n",
      "image stored at location:  renamed/Img_151.jpg\n",
      "image stored at location:  renamed/Img_152.jpg\n",
      "image stored at location:  renamed/Img_153.jpg\n",
      "image stored at location:  renamed/Img_154.jpg\n",
      "image stored at location:  renamed/Img_155.jpg\n",
      "image stored at location:  renamed/Img_156.jpg\n",
      "image stored at location:  renamed/Img_157.jpg\n",
      "image stored at location:  renamed/Img_158.jpg\n",
      "image stored at location:  renamed/Img_159.jpg\n",
      "image stored at location:  renamed/Img_160.jpg\n",
      "image stored at location:  renamed/Img_161.jpg\n",
      "image stored at location:  renamed/Img_162.jpg\n",
      "image stored at location:  renamed/Img_165.jpg\n",
      "image stored at location:  renamed/Img_168.jpg\n"
     ]
    }
   ],
   "source": [
    "# Renaming Masks\n",
    "rename_imgs(mask_images, ['Img_'+str(ind) for ind in available_df['label-studio_index']], \n",
    "            input_folder = 'Segmentation_Manual_test_masks/', output_folder = 'renamed')"
   ]
  },
  {
   "cell_type": "code",
   "execution_count": null,
   "id": "03d20486",
   "metadata": {},
   "outputs": [],
   "source": []
  }
 ],
 "metadata": {
  "kernelspec": {
   "display_name": "Python 3 (ipykernel)",
   "language": "python",
   "name": "python3"
  },
  "language_info": {
   "codemirror_mode": {
    "name": "ipython",
    "version": 3
   },
   "file_extension": ".py",
   "mimetype": "text/x-python",
   "name": "python",
   "nbconvert_exporter": "python",
   "pygments_lexer": "ipython3",
   "version": "3.11.3"
  }
 },
 "nbformat": 4,
 "nbformat_minor": 5
}
